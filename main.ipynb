{
 "cells": [
  {
   "cell_type": "code",
   "execution_count": 1,
   "metadata": {},
   "outputs": [
    {
     "name": "stdout",
     "output_type": "stream",
     "text": [
      "0.9473684210526315\n"
     ]
    },
    {
     "name": "stderr",
     "output_type": "stream",
     "text": [
      "c:\\Python38\\lib\\site-packages\\sklearn\\base.py:348: InconsistentVersionWarning: Trying to unpickle estimator DecisionTreeClassifier from version 1.5.2 when using version 1.3.2. This might lead to breaking code or invalid results. Use at your own risk. For more info please refer to:\n",
      "https://scikit-learn.org/stable/model_persistence.html#security-maintainability-limitations\n",
      "  warnings.warn(\n"
     ]
    }
   ],
   "source": [
    "import joblib\n",
    "from sklearn.datasets import load_iris\n",
    "from sklearn.model_selection import train_test_split\n",
    "# Load the dataset, which contains the examples and their labels\n",
    "iris_dataset = load_iris()\n",
    "filename = \"model.sav\"\n",
    "# Break the dataset up into the examples (X) and their labels (y)\n",
    "X, y = iris_dataset.data, iris_dataset.target\n",
    "# Split up the X and y datasets into train and test sets\n",
    "# 25% of the dataset will be used for the test set\n",
    "X_train, X_test, y_train, y_test = train_test_split(X, y, test_size=0.25, random_state=31)\n",
    "# load the model from disk\n",
    "loaded_model = joblib.load(filename)\n",
    "result = loaded_model.score(X_test, y_test)\n",
    "print(result)"
   ]
  },
  {
   "cell_type": "code",
   "execution_count": 2,
   "metadata": {},
   "outputs": [
    {
     "data": {
      "text/plain": [
       "array([[5.6, 3. , 4.5, 1.5],\n",
       "       [6.4, 2.8, 5.6, 2.2],\n",
       "       [4.6, 3.2, 1.4, 0.2],\n",
       "       [5.7, 2.9, 4.2, 1.3],\n",
       "       [6.8, 3. , 5.5, 2.1],\n",
       "       [4.8, 3. , 1.4, 0.3],\n",
       "       [6.3, 2.7, 4.9, 1.8],\n",
       "       [5.7, 3. , 4.2, 1.2],\n",
       "       [5.7, 4.4, 1.5, 0.4],\n",
       "       [5.1, 3.7, 1.5, 0.4],\n",
       "       [6.1, 2.6, 5.6, 1.4],\n",
       "       [6. , 3.4, 4.5, 1.6],\n",
       "       [6. , 3. , 4.8, 1.8],\n",
       "       [4.3, 3. , 1.1, 0.1],\n",
       "       [7.7, 3.8, 6.7, 2.2],\n",
       "       [6. , 2.7, 5.1, 1.6],\n",
       "       [6.3, 2.5, 4.9, 1.5],\n",
       "       [6. , 2.9, 4.5, 1.5],\n",
       "       [5.8, 2.8, 5.1, 2.4],\n",
       "       [4.4, 2.9, 1.4, 0.2],\n",
       "       [6.4, 3.2, 5.3, 2.3],\n",
       "       [6.3, 3.3, 6. , 2.5],\n",
       "       [5. , 3.5, 1.6, 0.6],\n",
       "       [6.4, 2.8, 5.6, 2.1],\n",
       "       [5.5, 2.4, 3.8, 1.1],\n",
       "       [4.7, 3.2, 1.3, 0.2],\n",
       "       [6.7, 3.1, 4.7, 1.5],\n",
       "       [5.2, 2.7, 3.9, 1.4],\n",
       "       [6.5, 2.8, 4.6, 1.5],\n",
       "       [5.4, 3. , 4.5, 1.5],\n",
       "       [5.8, 4. , 1.2, 0.2],\n",
       "       [5.1, 3.5, 1.4, 0.3],\n",
       "       [5.7, 2.6, 3.5, 1. ],\n",
       "       [6.1, 3. , 4.6, 1.4],\n",
       "       [5. , 2.3, 3.3, 1. ],\n",
       "       [5.5, 3.5, 1.3, 0.2],\n",
       "       [5.6, 2.9, 3.6, 1.3],\n",
       "       [7.1, 3. , 5.9, 2.1]])"
      ]
     },
     "execution_count": 2,
     "metadata": {},
     "output_type": "execute_result"
    }
   ],
   "source": [
    "X_test"
   ]
  }
 ],
 "metadata": {
  "kernelspec": {
   "display_name": "Python 3",
   "language": "python",
   "name": "python3"
  },
  "language_info": {
   "codemirror_mode": {
    "name": "ipython",
    "version": 3
   },
   "file_extension": ".py",
   "mimetype": "text/x-python",
   "name": "python",
   "nbconvert_exporter": "python",
   "pygments_lexer": "ipython3",
   "version": "3.8.8"
  }
 },
 "nbformat": 4,
 "nbformat_minor": 2
}
